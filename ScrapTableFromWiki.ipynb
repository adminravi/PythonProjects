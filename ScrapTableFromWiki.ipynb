{
 "cells": [
  {
   "cell_type": "markdown",
   "id": "ee90a108",
   "metadata": {},
   "source": [
    "# SCRAPING TABLES FROM WIKI\n",
    "This is really helpful in quickly automating your work"
   ]
  },
  {
   "cell_type": "markdown",
   "id": "36eec433",
   "metadata": {},
   "source": [
    "**First we need to import pandas**"
   ]
  },
  {
   "cell_type": "code",
   "execution_count": 1,
   "id": "3e8ab1f2",
   "metadata": {},
   "outputs": [],
   "source": [
    "import pandas as pd"
   ]
  },
  {
   "cell_type": "markdown",
   "id": "bb0cf395",
   "metadata": {},
   "source": [
    "**Load tables in a variable with pd.read_html**\n",
    "\n",
    "*pd.read_html* : Read HTML tables into a list of DataFrame objects."
   ]
  },
  {
   "cell_type": "code",
   "execution_count": 2,
   "id": "d62ac16d",
   "metadata": {},
   "outputs": [],
   "source": [
    "money_earned = pd.read_html('https://en.wikipedia.org/wiki/List_of_Hindi_films_of_2022')"
   ]
  },
  {
   "cell_type": "markdown",
   "id": "5e7e4a38",
   "metadata": {},
   "source": [
    "**Accessing table**\n",
    "\n",
    "Since *money_earned* is a list of tables, therefore, it can be accessed by it's index."
   ]
  },
  {
   "cell_type": "code",
   "execution_count": 5,
   "id": "5d20af39",
   "metadata": {},
   "outputs": [
    {
     "data": {
      "text/html": [
       "<div>\n",
       "<style scoped>\n",
       "    .dataframe tbody tr th:only-of-type {\n",
       "        vertical-align: middle;\n",
       "    }\n",
       "\n",
       "    .dataframe tbody tr th {\n",
       "        vertical-align: top;\n",
       "    }\n",
       "\n",
       "    .dataframe thead th {\n",
       "        text-align: right;\n",
       "    }\n",
       "</style>\n",
       "<table border=\"1\" class=\"dataframe\">\n",
       "  <thead>\n",
       "    <tr style=\"text-align: right;\">\n",
       "      <th></th>\n",
       "      <th>Rank</th>\n",
       "      <th>Title</th>\n",
       "      <th>Production Company</th>\n",
       "      <th>Distributor</th>\n",
       "      <th>Worldwide Gross</th>\n",
       "      <th>Ref.</th>\n",
       "    </tr>\n",
       "  </thead>\n",
       "  <tbody>\n",
       "    <tr>\n",
       "      <th>0</th>\n",
       "      <td>1</td>\n",
       "      <td>Brahmāstra: Part One – Shiva</td>\n",
       "      <td>Dharma ProductionsStar StudiosPrime FocusStarl...</td>\n",
       "      <td>Walt Disney Studios Motion Pictures</td>\n",
       "      <td>₹431 crore (US$54 million)</td>\n",
       "      <td>[1]</td>\n",
       "    </tr>\n",
       "    <tr>\n",
       "      <th>1</th>\n",
       "      <td>2</td>\n",
       "      <td>The Kashmir Files</td>\n",
       "      <td>Zee StudiosAbhishek Agarwal Arts</td>\n",
       "      <td>Zee Studios</td>\n",
       "      <td>₹340.92 crore (US$43 million)</td>\n",
       "      <td>[2][3]</td>\n",
       "    </tr>\n",
       "    <tr>\n",
       "      <th>2</th>\n",
       "      <td>3</td>\n",
       "      <td>Bhool Bhulaiyaa 2</td>\n",
       "      <td>T-Series FilmsCine1 Studios</td>\n",
       "      <td>AA Films</td>\n",
       "      <td>₹266.88 crore (US$33 million)</td>\n",
       "      <td>[4][3]</td>\n",
       "    </tr>\n",
       "    <tr>\n",
       "      <th>3</th>\n",
       "      <td>4</td>\n",
       "      <td>Gangubai Kathiawadi</td>\n",
       "      <td>Bhansali ProductionsPen India Limited</td>\n",
       "      <td>Pen Marudhar Entertainment</td>\n",
       "      <td>₹209.77 crore (US$26 million)</td>\n",
       "      <td>[5][3]</td>\n",
       "    </tr>\n",
       "    <tr>\n",
       "      <th>4</th>\n",
       "      <td>5</td>\n",
       "      <td>Drishyam 2*</td>\n",
       "      <td>Panorama StudiosViacom18 StudiosT-Series Films</td>\n",
       "      <td>Panorama StudiosYash Raj Films</td>\n",
       "      <td>₹179.27 crore (US$22 million)</td>\n",
       "      <td>[6][3]</td>\n",
       "    </tr>\n",
       "    <tr>\n",
       "      <th>5</th>\n",
       "      <td>6</td>\n",
       "      <td>Radhe Shyam[a]</td>\n",
       "      <td>UV CreationsT-Series Films</td>\n",
       "      <td>AA FilmsRed Giant MoviesRD Illuminations</td>\n",
       "      <td>₹151 crore (US$19 million)–₹214 crore (US$27 m...</td>\n",
       "      <td>[b]</td>\n",
       "    </tr>\n",
       "    <tr>\n",
       "      <th>6</th>\n",
       "      <td>7</td>\n",
       "      <td>Jugjugg Jeeyo</td>\n",
       "      <td>Dharma ProductionsViacom18 Studios</td>\n",
       "      <td>Viacom18 Studios</td>\n",
       "      <td>₹136.13 crore (US$17 million)</td>\n",
       "      <td>[12][3]</td>\n",
       "    </tr>\n",
       "    <tr>\n",
       "      <th>7</th>\n",
       "      <td>8</td>\n",
       "      <td>Vikram Vedha</td>\n",
       "      <td>Reliance EntertainmentYNOT StudiosFriday Filmw...</td>\n",
       "      <td>PVR PicturesPen MurudharHome Screen Entertainment</td>\n",
       "      <td>₹135.03 crore (US$17 million)</td>\n",
       "      <td>[13][3]</td>\n",
       "    </tr>\n",
       "    <tr>\n",
       "      <th>8</th>\n",
       "      <td>9</td>\n",
       "      <td>Laal Singh Chaddha</td>\n",
       "      <td>Aamir Khan ProductionsViacom18 Studios</td>\n",
       "      <td>Paramount Pictures</td>\n",
       "      <td>₹129.64 crore (US$16 million)</td>\n",
       "      <td>[14][3]</td>\n",
       "    </tr>\n",
       "    <tr>\n",
       "      <th>9</th>\n",
       "      <td>10</td>\n",
       "      <td>Ram Setu</td>\n",
       "      <td>Amazon StudiosCape of Good Films</td>\n",
       "      <td>Zee Studios</td>\n",
       "      <td>₹92.64 crore (US$12 million)</td>\n",
       "      <td>[15][3]</td>\n",
       "    </tr>\n",
       "  </tbody>\n",
       "</table>\n",
       "</div>"
      ],
      "text/plain": [
       "   Rank                         Title  \\\n",
       "0     1  Brahmāstra: Part One – Shiva   \n",
       "1     2             The Kashmir Files   \n",
       "2     3             Bhool Bhulaiyaa 2   \n",
       "3     4           Gangubai Kathiawadi   \n",
       "4     5                   Drishyam 2*   \n",
       "5     6                Radhe Shyam[a]   \n",
       "6     7                 Jugjugg Jeeyo   \n",
       "7     8                  Vikram Vedha   \n",
       "8     9            Laal Singh Chaddha   \n",
       "9    10                      Ram Setu   \n",
       "\n",
       "                                  Production Company  \\\n",
       "0  Dharma ProductionsStar StudiosPrime FocusStarl...   \n",
       "1                   Zee StudiosAbhishek Agarwal Arts   \n",
       "2                        T-Series FilmsCine1 Studios   \n",
       "3              Bhansali ProductionsPen India Limited   \n",
       "4     Panorama StudiosViacom18 StudiosT-Series Films   \n",
       "5                         UV CreationsT-Series Films   \n",
       "6                 Dharma ProductionsViacom18 Studios   \n",
       "7  Reliance EntertainmentYNOT StudiosFriday Filmw...   \n",
       "8             Aamir Khan ProductionsViacom18 Studios   \n",
       "9                   Amazon StudiosCape of Good Films   \n",
       "\n",
       "                                         Distributor  \\\n",
       "0                Walt Disney Studios Motion Pictures   \n",
       "1                                        Zee Studios   \n",
       "2                                           AA Films   \n",
       "3                         Pen Marudhar Entertainment   \n",
       "4                     Panorama StudiosYash Raj Films   \n",
       "5           AA FilmsRed Giant MoviesRD Illuminations   \n",
       "6                                   Viacom18 Studios   \n",
       "7  PVR PicturesPen MurudharHome Screen Entertainment   \n",
       "8                                 Paramount Pictures   \n",
       "9                                        Zee Studios   \n",
       "\n",
       "                                     Worldwide Gross     Ref.  \n",
       "0                         ₹431 crore (US$54 million)      [1]  \n",
       "1                      ₹340.92 crore (US$43 million)   [2][3]  \n",
       "2                      ₹266.88 crore (US$33 million)   [4][3]  \n",
       "3                      ₹209.77 crore (US$26 million)   [5][3]  \n",
       "4                      ₹179.27 crore (US$22 million)   [6][3]  \n",
       "5  ₹151 crore (US$19 million)–₹214 crore (US$27 m...      [b]  \n",
       "6                      ₹136.13 crore (US$17 million)  [12][3]  \n",
       "7                      ₹135.03 crore (US$17 million)  [13][3]  \n",
       "8                      ₹129.64 crore (US$16 million)  [14][3]  \n",
       "9                       ₹92.64 crore (US$12 million)  [15][3]  "
      ]
     },
     "execution_count": 5,
     "metadata": {},
     "output_type": "execute_result"
    }
   ],
   "source": [
    "money_earned[3]"
   ]
  },
  {
   "cell_type": "markdown",
   "id": "e6071046",
   "metadata": {},
   "source": [
    "**To Check the number of tables in a webpage**\n",
    "\n",
    "the len function returns the number of items in the list. This list contains tables as items. so the len function will return number of tables in the webpage. As you can see, there are 17 tables in the webpage."
   ]
  },
  {
   "cell_type": "code",
   "execution_count": 7,
   "id": "927926e2",
   "metadata": {},
   "outputs": [
    {
     "data": {
      "text/plain": [
       "17"
      ]
     },
     "execution_count": 7,
     "metadata": {},
     "output_type": "execute_result"
    }
   ],
   "source": [
    "len(money_earned)"
   ]
  },
  {
   "cell_type": "markdown",
   "id": "2a436fd5",
   "metadata": {},
   "source": [
    "If you try to access the 18th table by coding money_earned[17], you will get an \"IndexError\" since there are only 17 tables in the webpage and [17] points to the 18th table as indexing starts from 0."
   ]
  },
  {
   "cell_type": "code",
   "execution_count": 8,
   "id": "88914eb1",
   "metadata": {},
   "outputs": [
    {
     "ename": "IndexError",
     "evalue": "list index out of range",
     "output_type": "error",
     "traceback": [
      "\u001b[1;31m---------------------------------------------------------------------------\u001b[0m",
      "\u001b[1;31mIndexError\u001b[0m                                Traceback (most recent call last)",
      "Cell \u001b[1;32mIn [8], line 1\u001b[0m\n\u001b[1;32m----> 1\u001b[0m \u001b[43mmoney_earned\u001b[49m\u001b[43m[\u001b[49m\u001b[38;5;241;43m17\u001b[39;49m\u001b[43m]\u001b[49m\n",
      "\u001b[1;31mIndexError\u001b[0m: list index out of range"
     ]
    }
   ],
   "source": [
    "money_earned[17]"
   ]
  },
  {
   "cell_type": "markdown",
   "id": "11ce4194",
   "metadata": {},
   "source": [
    "## Accessing the last table of the webpage"
   ]
  },
  {
   "cell_type": "code",
   "execution_count": 9,
   "id": "4e0e2bdf",
   "metadata": {},
   "outputs": [
    {
     "data": {
      "text/html": [
       "<div>\n",
       "<style scoped>\n",
       "    .dataframe tbody tr th:only-of-type {\n",
       "        vertical-align: middle;\n",
       "    }\n",
       "\n",
       "    .dataframe tbody tr th {\n",
       "        vertical-align: top;\n",
       "    }\n",
       "\n",
       "    .dataframe thead th {\n",
       "        text-align: right;\n",
       "    }\n",
       "</style>\n",
       "<table border=\"1\" class=\"dataframe\">\n",
       "  <thead>\n",
       "    <tr style=\"text-align: right;\">\n",
       "      <th></th>\n",
       "      <th>0</th>\n",
       "      <th>1</th>\n",
       "    </tr>\n",
       "  </thead>\n",
       "  <tbody>\n",
       "    <tr>\n",
       "      <th>0</th>\n",
       "      <td>Central America and the Caribbean</td>\n",
       "      <td>Antigua and Barbuda Aruba Bahamas Barbados Cub...</td>\n",
       "    </tr>\n",
       "    <tr>\n",
       "      <th>1</th>\n",
       "      <td>North</td>\n",
       "      <td>Canada Greenland Mexico United States</td>\n",
       "    </tr>\n",
       "    <tr>\n",
       "      <th>2</th>\n",
       "      <td>South</td>\n",
       "      <td>Argentina Bolivia Brazil Chile Colombia Ecuado...</td>\n",
       "    </tr>\n",
       "  </tbody>\n",
       "</table>\n",
       "</div>"
      ],
      "text/plain": [
       "                                   0  \\\n",
       "0  Central America and the Caribbean   \n",
       "1                              North   \n",
       "2                              South   \n",
       "\n",
       "                                                   1  \n",
       "0  Antigua and Barbuda Aruba Bahamas Barbados Cub...  \n",
       "1              Canada Greenland Mexico United States  \n",
       "2  Argentina Bolivia Brazil Chile Colombia Ecuado...  "
      ]
     },
     "execution_count": 9,
     "metadata": {},
     "output_type": "execute_result"
    }
   ],
   "source": [
    "money_earned[16]"
   ]
  },
  {
   "cell_type": "markdown",
   "id": "07867069",
   "metadata": {},
   "source": [
    "# Hope it was helpful, in case you want to be in touch, here's my twitter handle @ravivermaravi"
   ]
  },
  {
   "cell_type": "code",
   "execution_count": null,
   "id": "caa23b9c",
   "metadata": {},
   "outputs": [],
   "source": []
  }
 ],
 "metadata": {
  "kernelspec": {
   "display_name": "Python 3 (ipykernel)",
   "language": "python",
   "name": "python3"
  },
  "language_info": {
   "codemirror_mode": {
    "name": "ipython",
    "version": 3
   },
   "file_extension": ".py",
   "mimetype": "text/x-python",
   "name": "python",
   "nbconvert_exporter": "python",
   "pygments_lexer": "ipython3",
   "version": "3.10.8"
  }
 },
 "nbformat": 4,
 "nbformat_minor": 5
}
